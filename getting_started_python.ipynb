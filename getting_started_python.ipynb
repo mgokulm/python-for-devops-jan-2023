{
  "nbformat": 4,
  "nbformat_minor": 0,
  "metadata": {
    "colab": {
      "provenance": [],
      "toc_visible": true,
      "authorship_tag": "ABX9TyMBkd66dlqO9PHeQOqIPTxm",
      "include_colab_link": true
    },
    "kernelspec": {
      "name": "python3",
      "display_name": "Python 3"
    },
    "language_info": {
      "name": "python"
    }
  },
  "cells": [
    {
      "cell_type": "markdown",
      "metadata": {
        "id": "view-in-github",
        "colab_type": "text"
      },
      "source": [
        "<a href=\"https://colab.research.google.com/github/mgokulm/python-for-devops-jan-2023/blob/main/getting_started_python.ipynb\" target=\"_parent\"><img src=\"https://colab.research.google.com/assets/colab-badge.svg\" alt=\"Open In Colab\"/></a>"
      ]
    },
    {
      "cell_type": "markdown",
      "source": [
        "## Introduction to Python"
      ],
      "metadata": {
        "id": "9h0mUuMI8Bca"
      }
    },
    {
      "cell_type": "markdown",
      "source": [
        "### Statements in Python"
      ],
      "metadata": {
        "id": "qL_wA9uU8c7h"
      }
    },
    {
      "cell_type": "code",
      "source": [
        "print (\"hello word\")"
      ],
      "metadata": {
        "id": "EDMDerJk8pH6",
        "outputId": "f19b2776-25a7-4372-c2a0-11139dcdf56d",
        "colab": {
          "base_uri": "https://localhost:8080/"
        }
      },
      "execution_count": 2,
      "outputs": [
        {
          "output_type": "stream",
          "name": "stdout",
          "text": [
            "hello word\n"
          ]
        }
      ]
    },
    {
      "cell_type": "code",
      "source": [
        "name = \"gokul\"\n",
        "print(f\"hello {name}\")"
      ],
      "metadata": {
        "id": "7AktpJo785Tc",
        "outputId": "81e63b8e-c439-4aae-f991-0a6de0313095",
        "colab": {
          "base_uri": "https://localhost:8080/"
        }
      },
      "execution_count": 3,
      "outputs": [
        {
          "output_type": "stream",
          "name": "stdout",
          "text": [
            "hello gokul\n"
          ]
        }
      ]
    }
  ]
}